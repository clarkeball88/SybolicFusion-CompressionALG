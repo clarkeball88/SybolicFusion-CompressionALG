{
  "cells": [
    {
      "cell_type": "markdown",
      "metadata": {},
      "source": [
        "# Symbolic Compression Interactive Demo\n",
        "This notebook demonstrates how to use the symbolic compression system interactively."
      ]
    },
    {
      "cell_type": "code",
      "execution_count": null,
      "metadata": {},
      "outputs": [],
      "source": [
        "# Import the symbolic encoder\n",
        "from src.symbolic_encoder import symbolic_encode, symbolic_decode"
      ]
    },
    {
      "cell_type": "code",
      "execution_count": null,
      "metadata": {},
      "outputs": [],
      "source": [
        "# Example symbolic data\n",
        "data = ['\u27e61,2\u27e7', '\u27e63,4\u27e7', '\u27e65,6\u27e7']\n",
        "encoded = symbolic_encode(data)\n",
        "print('Encoded:', encoded)\n",
        "decoded = symbolic_decode(encoded)\n",
        "print('Decoded:', decoded)"
      ]
    },
    {
      "cell_type": "markdown",
      "metadata": {},
      "source": [
        "Try changing the symbolic input or experiment with macro compression!"
      ]
    }
  ],
  "metadata": {
    "kernelspec": {
      "display_name": "Python 3",
      "language": "python",
      "name": "python3"
    },
    "language_info": {
      "name": "python",
      "version": "3.8"
    }
  },
  "nbformat": 4,
  "nbformat_minor": 5
}